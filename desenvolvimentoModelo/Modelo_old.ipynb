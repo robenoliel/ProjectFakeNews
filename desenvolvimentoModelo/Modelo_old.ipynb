{
 "cells": [
  {
   "cell_type": "markdown",
   "metadata": {
    "id": "3qOGtpIKa1gW"
   },
   "source": [
    "# Rede Neural Artificial para Identificação de Fake News\r\n",
    "\r\n",
    "\r\n",
    "\r\n",
    "---\r\n",
    "\r\n",
    "Declarando bibliotecas:"
   ]
  },
  {
   "cell_type": "code",
   "execution_count": 3,
   "metadata": {
    "colab": {
     "base_uri": "https://localhost:8080/"
    },
    "executionInfo": {
     "elapsed": 14815,
     "status": "ok",
     "timestamp": 1612203172154,
     "user": {
      "displayName": "Paulo Fontes",
      "photoUrl": "https://lh3.googleusercontent.com/a-/AOh14GhzvBtt35xKhP3IwlyaSXmbEBeZKYTHe8JjKbPi=s64",
      "userId": "14773370973084275985"
     },
     "user_tz": 180
    },
    "id": "YVfhc7sLxqP9",
    "outputId": "ee5f278d-a15c-4693-c75d-3278fbb6ae37"
   },
   "outputs": [
    {
     "name": "stdout",
     "output_type": "stream",
     "text": [
      "Collecting googletrans==3.1.0a0\n",
      "  Downloading https://files.pythonhosted.org/packages/19/3d/4e3a1609bf52f2f7b00436cc751eb977e27040665dde2bd57e7152989672/googletrans-3.1.0a0.tar.gz\n",
      "Collecting httpx==0.13.3\n",
      "\u001b[?25l  Downloading https://files.pythonhosted.org/packages/54/b4/698b284c6aed4d7c2b4fe3ba5df1fcf6093612423797e76fbb24890dd22f/httpx-0.13.3-py3-none-any.whl (55kB)\n",
      "\u001b[K     |████████████████████████████████| 61kB 2.9MB/s \n",
      "\u001b[?25hRequirement already satisfied: certifi in /usr/local/lib/python3.6/dist-packages (from httpx==0.13.3->googletrans==3.1.0a0) (2020.12.5)\n",
      "Collecting sniffio\n",
      "  Downloading https://files.pythonhosted.org/packages/52/b0/7b2e028b63d092804b6794595871f936aafa5e9322dcaaad50ebf67445b3/sniffio-1.2.0-py3-none-any.whl\n",
      "Requirement already satisfied: chardet==3.* in /usr/local/lib/python3.6/dist-packages (from httpx==0.13.3->googletrans==3.1.0a0) (3.0.4)\n",
      "Collecting hstspreload\n",
      "\u001b[?25l  Downloading https://files.pythonhosted.org/packages/dd/50/606213e12fb49c5eb667df0936223dcaf461f94e215ea60244b2b1e9b039/hstspreload-2020.12.22-py3-none-any.whl (994kB)\n",
      "\u001b[K     |████████████████████████████████| 1.0MB 6.3MB/s \n",
      "\u001b[?25hCollecting httpcore==0.9.*\n",
      "\u001b[?25l  Downloading https://files.pythonhosted.org/packages/dd/d5/e4ff9318693ac6101a2095e580908b591838c6f33df8d3ee8dd953ba96a8/httpcore-0.9.1-py3-none-any.whl (42kB)\n",
      "\u001b[K     |████████████████████████████████| 51kB 5.4MB/s \n",
      "\u001b[?25hCollecting rfc3986<2,>=1.3\n",
      "  Downloading https://files.pythonhosted.org/packages/78/be/7b8b99fd74ff5684225f50dd0e865393d2265656ef3b4ba9eaaaffe622b8/rfc3986-1.4.0-py2.py3-none-any.whl\n",
      "Requirement already satisfied: idna==2.* in /usr/local/lib/python3.6/dist-packages (from httpx==0.13.3->googletrans==3.1.0a0) (2.10)\n",
      "Collecting contextvars>=2.1; python_version < \"3.7\"\n",
      "  Downloading https://files.pythonhosted.org/packages/83/96/55b82d9f13763be9d672622e1b8106c85acb83edd7cc2fa5bc67cd9877e9/contextvars-2.4.tar.gz\n",
      "Collecting h11<0.10,>=0.8\n",
      "\u001b[?25l  Downloading https://files.pythonhosted.org/packages/5a/fd/3dad730b0f95e78aeeb742f96fa7bbecbdd56a58e405d3da440d5bfb90c6/h11-0.9.0-py2.py3-none-any.whl (53kB)\n",
      "\u001b[K     |████████████████████████████████| 61kB 5.9MB/s \n",
      "\u001b[?25hCollecting h2==3.*\n",
      "\u001b[?25l  Downloading https://files.pythonhosted.org/packages/25/de/da019bcc539eeab02f6d45836f23858ac467f584bfec7a526ef200242afe/h2-3.2.0-py2.py3-none-any.whl (65kB)\n",
      "\u001b[K     |████████████████████████████████| 71kB 5.9MB/s \n",
      "\u001b[?25hCollecting immutables>=0.9\n",
      "\u001b[?25l  Downloading https://files.pythonhosted.org/packages/99/e0/ea6fd4697120327d26773b5a84853f897a68e33d3f9376b00a8ff96e4f63/immutables-0.14-cp36-cp36m-manylinux1_x86_64.whl (98kB)\n",
      "\u001b[K     |████████████████████████████████| 102kB 6.4MB/s \n",
      "\u001b[?25hCollecting hyperframe<6,>=5.2.0\n",
      "  Downloading https://files.pythonhosted.org/packages/19/0c/bf88182bcb5dce3094e2f3e4fe20db28a9928cb7bd5b08024030e4b140db/hyperframe-5.2.0-py2.py3-none-any.whl\n",
      "Collecting hpack<4,>=3.0\n",
      "  Downloading https://files.pythonhosted.org/packages/8a/cc/e53517f4a1e13f74776ca93271caef378dadec14d71c61c949d759d3db69/hpack-3.0.0-py2.py3-none-any.whl\n",
      "Building wheels for collected packages: googletrans, contextvars\n",
      "  Building wheel for googletrans (setup.py) ... \u001b[?25l\u001b[?25hdone\n",
      "  Created wheel for googletrans: filename=googletrans-3.1.0a0-cp36-none-any.whl size=16368 sha256=571d388daca66f2b78731515c00f9f77f40c00a52e21ca1cd55432dbeb6db6ad\n",
      "  Stored in directory: /root/.cache/pip/wheels/27/7a/a0/aff3babbb775549ce6813cb8fa7ff3c0848c4dc62c20f8fdac\n",
      "  Building wheel for contextvars (setup.py) ... \u001b[?25l\u001b[?25hdone\n",
      "  Created wheel for contextvars: filename=contextvars-2.4-cp36-none-any.whl size=7667 sha256=fa7854af2536fa4d4e48bb5d4f3c1d8c447a5055e1bc9219b38751b3232f211a\n",
      "  Stored in directory: /root/.cache/pip/wheels/a5/7d/68/1ebae2668bda2228686e3c1cf16f2c2384cea6e9334ad5f6de\n",
      "Successfully built googletrans contextvars\n",
      "Installing collected packages: immutables, contextvars, sniffio, hstspreload, h11, hyperframe, hpack, h2, httpcore, rfc3986, httpx, googletrans\n",
      "Successfully installed contextvars-2.4 googletrans-3.1.0a0 h11-0.9.0 h2-3.2.0 hpack-3.0.0 hstspreload-2020.12.22 httpcore-0.9.1 httpx-0.13.3 hyperframe-5.2.0 immutables-0.14 rfc3986-1.4.0 sniffio-1.2.0\n",
      "Mounted at /content/drive\n",
      "[nltk_data] Downloading package stopwords to /root/nltk_data...\n",
      "[nltk_data]   Unzipping corpora/stopwords.zip.\n"
     ]
    }
   ],
   "source": [
    "from google.colab import drive                        #lidar com o drive\r\n",
    "import os                                             #pode vir a ser útil quando tivermos mais arquivos\r\n",
    "import pandas as pd                                   #trabalhar com dataframes\r\n",
    "import numpy as np                                    #Ajudar com a álgebra\r\n",
    "!pip install googletrans==3.1.0a0                              #instalar a biblioteca deep_translator\r\n",
    "from googletrans import Translator                    #traduzir t#exto\r\n",
    "drive.mount('/content/drive', force_remount=True)     #fazer setup do drive\r\n",
    "import tensorflow as tf\r\n",
    "from tensorflow import keras\r\n",
    "from tensorflow.keras.preprocessing.text import Tokenizer\r\n",
    "from sklearn.model_selection import train_test_split\r\n",
    "import nltk\r\n",
    "nltk.download('stopwords')\r\n",
    "from nltk.corpus import stopwords\r\n",
    "from sklearn.feature_extraction.text import CountVectorizer\r\n",
    "from sklearn import preprocessing\r\n",
    "from calendar import month_name"
   ]
  },
  {
   "cell_type": "markdown",
   "metadata": {
    "id": "WyPkoh4Fbfy0"
   },
   "source": [
    "## Treinamento e teste inicial será realizado com banco de dados em inglês. Aqui importamos e processamos os arquivos:"
   ]
  },
  {
   "cell_type": "code",
   "execution_count": null,
   "metadata": {
    "id": "hvHI06I5UbvV"
   },
   "outputs": [],
   "source": [
    "path = '//content//drive//MyDrive//Colab Notebooks//'\r\n",
    "df_fake = pd.read_csv(path + 'Fake.csv',encoding = 'UTF-8')\r\n",
    "df_true = pd.read_csv(path + 'True.csv',encoding = 'UTF-8\n",
    "\n",
    "')"
   ]
  },
  {
   "cell_type": "code",
   "execution_count": null,
   "metadata": {
    "id": "CP_wt25T-hbj"
   },
   "outputs": [],
   "source": [
    "df_fake['reality'] = 0\r\n",
    "df_true['reality'] = 1\r\n",
    "df_text = df_true.append(df_fake, ignore_index = True)\r\n",
    "df_text['text'] = df_text['title'].str.lower() + ' ' + df_text['text'].str.lower()\r\n",
    "df_text.drop(columns = ['subject','date','title'], inplace = True)"
   ]
  },
  {
   "cell_type": "code",
   "execution_count": null,
   "metadata": {
    "colab": {
     "base_uri": "https://localhost:8080/",
     "height": 424
    },
    "executionInfo": {
     "elapsed": 81525,
     "status": "ok",
     "timestamp": 1612126799625,
     "user": {
      "displayName": "Rodrigo Bagdadi Benoliel",
      "photoUrl": "https://lh3.googleusercontent.com/a-/AOh14Gg2NiE86ZUz7S0L8apTP1_VHrue_xVJFtEMkUzf=s64",
      "userId": "13184916410344570315"
     },
     "user_tz": 180
    },
    "id": "uu_I24MVzyQ9",
    "outputId": "d0e52cf8-fd72-472d-ff97-3e47016e4ca8"
   },
   "outputs": [
    {
     "data": {
      "text/html": [
       "<div>\n",
       "<style scoped>\n",
       "    .dataframe tbody tr th:only-of-type {\n",
       "        vertical-align: middle;\n",
       "    }\n",
       "\n",
       "    .dataframe tbody tr th {\n",
       "        vertical-align: top;\n",
       "    }\n",
       "\n",
       "    .dataframe thead th {\n",
       "        text-align: right;\n",
       "    }\n",
       "</style>\n",
       "<table border=\"1\" class=\"dataframe\">\n",
       "  <thead>\n",
       "    <tr style=\"text-align: right;\">\n",
       "      <th></th>\n",
       "      <th>text</th>\n",
       "      <th>reality</th>\n",
       "    </tr>\n",
       "  </thead>\n",
       "  <tbody>\n",
       "    <tr>\n",
       "      <th>0</th>\n",
       "      <td>as u.s. budget fight looms, republicans flipfi...</td>\n",
       "      <td>1</td>\n",
       "    </tr>\n",
       "    <tr>\n",
       "      <th>1</th>\n",
       "      <td>u.s. militaryaccept transgender recruitsmonday...</td>\n",
       "      <td>1</td>\n",
       "    </tr>\n",
       "    <tr>\n",
       "      <th>2</th>\n",
       "      <td>senior u.s. republican senator: 'let mr. muell...</td>\n",
       "      <td>1</td>\n",
       "    </tr>\n",
       "    <tr>\n",
       "      <th>3</th>\n",
       "      <td>fbi russia probe helpedaustralian diplomat tip...</td>\n",
       "      <td>1</td>\n",
       "    </tr>\n",
       "    <tr>\n",
       "      <th>4</th>\n",
       "      <td>trump wants postal servicecharge 'much more'am...</td>\n",
       "      <td>1</td>\n",
       "    </tr>\n",
       "    <tr>\n",
       "      <th>...</th>\n",
       "      <td>...</td>\n",
       "      <td>...</td>\n",
       "    </tr>\n",
       "    <tr>\n",
       "      <th>44893</th>\n",
       "      <td>mcpain: john mccain furiousiran treated us sai...</td>\n",
       "      <td>0</td>\n",
       "    </tr>\n",
       "    <tr>\n",
       "      <th>44894</th>\n",
       "      <td>justice? yahoo settles e-mail privacy class-ac...</td>\n",
       "      <td>0</td>\n",
       "    </tr>\n",
       "    <tr>\n",
       "      <th>44895</th>\n",
       "      <td>sunnistan: usallied ‘safe zone’ plantake terri...</td>\n",
       "      <td>0</td>\n",
       "    </tr>\n",
       "    <tr>\n",
       "      <th>44896</th>\n",
       "      <td>howblow $700 million: al jazeera america final...</td>\n",
       "      <td>0</td>\n",
       "    </tr>\n",
       "    <tr>\n",
       "      <th>44897</th>\n",
       "      <td>10 u.s. navy sailors heldiranian military – si...</td>\n",
       "      <td>0</td>\n",
       "    </tr>\n",
       "  </tbody>\n",
       "</table>\n",
       "<p>44898 rows × 2 columns</p>\n",
       "</div>"
      ],
      "text/plain": [
       "                                                    text  reality\n",
       "0      as u.s. budget fight looms, republicans flipfi...        1\n",
       "1      u.s. militaryaccept transgender recruitsmonday...        1\n",
       "2      senior u.s. republican senator: 'let mr. muell...        1\n",
       "3      fbi russia probe helpedaustralian diplomat tip...        1\n",
       "4      trump wants postal servicecharge 'much more'am...        1\n",
       "...                                                  ...      ...\n",
       "44893  mcpain: john mccain furiousiran treated us sai...        0\n",
       "44894  justice? yahoo settles e-mail privacy class-ac...        0\n",
       "44895  sunnistan: usallied ‘safe zone’ plantake terri...        0\n",
       "44896  howblow $700 million: al jazeera america final...        0\n",
       "44897  10 u.s. navy sailors heldiranian military – si...        0\n",
       "\n",
       "[44898 rows x 2 columns]"
      ]
     },
     "execution_count": 9,
     "metadata": {
      "tags": []
     },
     "output_type": "execute_result"
    }
   ],
   "source": [
    "for word in stopwords.words('english'):\r\n",
    "  df_text['text'] = df_text['text'].str.replace(' ' + word + ' ','')\r\n",
    "\r\n",
    "for word in month_name:\r\n",
    "  df_text['text'] = df_text['text'].str.replace(' ' + word.lower() + ' ','')\r\n",
    "\r\n",
    "#df_text_copy = df_text.copy()\r\n",
    "#for i, row in df_text_copy.iterrows():\r\n",
    "#  for char in row['text']:\r\n",
    "#    if char.isdigit():\r\n",
    "#      df_text['text'] = df_text['text'].str.replace(char,'')\r\n",
    "\r\n",
    "df_text"
   ]
  },
  {
   "cell_type": "code",
   "execution_count": null,
   "metadata": {
    "colab": {
     "base_uri": "https://localhost:8080/"
    },
    "executionInfo": {
     "elapsed": 97598,
     "status": "ok",
     "timestamp": 1612126815708,
     "user": {
      "displayName": "Rodrigo Bagdadi Benoliel",
      "photoUrl": "https://lh3.googleusercontent.com/a-/AOh14Gg2NiE86ZUz7S0L8apTP1_VHrue_xVJFtEMkUzf=s64",
      "userId": "13184916410344570315"
     },
     "user_tz": 180
    },
    "id": "HRWO11P9Qnzk",
    "outputId": "e4291316-4839-4996-f5cf-d41916e1da4b"
   },
   "outputs": [
    {
     "name": "stdout",
     "output_type": "stream",
     "text": [
      "['000', '10', '100', '11', '12', '13', '14', '15', '16', '17', '18', '19', '20', '200', '2014', '2015', '2016', '2017', '21', '21st', '21wire', '22', '23', '24', '25', '26', '27', '28', '29', '30', '40', '50', '500', '60', 'abortion', 'about', 'absolutely', 'access', 'according', 'account', 'accused', 'across', 'act', 'action', 'actually', 'added', 'adding', 'administration', 'adviser', 'affairs', 'african', 'after', 'again', 'agencies', 'agency', 'agenda', 'agents', 'ago', 'agreement', 'ahead', 'aid', 'air', 'al', 'all', 'allies', 'almost', 'along', 'already', 'also', 'although', 'always', 'ambassador', 'amendment', 'america', 'american', 'americans', 'amid', 'among', 'an', 'and', 'andis', 'ands', 'announced', 'another', 'anti', 'anyone', 'anything', 'apparently', 'appeared', 'appears', 'arab', 'arabia', 'are', 'area', 'areas', 'armed', 'army', 'around', 'as', 'asked', 'assault', 'at', 'attack', 'attacks', 'attime', 'attorney', 'authorities', 'away', 'back', 'backed', 'bad', 'ban', 'bank', 'barack', 'base', 'based', 'be', 'become', 'began', 'behind', 'believe', 'below', 'bernie', 'best', 'better', 'big', 'bill', 'billion', 'black', 'board', 'border', 'breaking', 'breitbart', 'brexit', 'britain', 'british', 'budget', 'bush', 'business', 'but', 'by', 'california', 'call', 'called', 'calling', 'calls', 'came', 'campaign', 'can', 'candidate', 'candidates', 'cannot', 'capital', 'capture', 'care', 'carolina', 'case', 'cases', 'center', 'central', 'century', 'certainly', 'chair', 'chairman', 'change', 'changes', 'charges', 'chief', 'children', 'china', 'chinese', 'chris', 'christian', 'cia', 'citizens', 'city', 'civil', 'claims', 'class', 'clear', 'clearly', 'climate', 'clinton', 'close', 'cnn', 'co', 'coalition', 'college', 'com', 'come', 'comes', 'comey', 'coming', 'comments', 'commission', 'committee', 'community', 'companies', 'company', 'completely', 'concerns', 'conference', 'congress', 'congressional', 'conservative', 'conservatives', 'continued', 'control', 'controlled', 'convention', 'conway', 'corruption', 'could', 'council', 'counsel', 'countries', 'country', 'county', 'course', 'court', 'crime', 'criminal', 'crisis', 'cruz', 'current', 'currently', 'cut', 'cuts', 'daily', 'data', 'david', 'day', 'days', 'de', 'dead', 'deal', 'death', 'debate', 'debt', 'decades', 'decision', 'defense', 'democrat', 'democratic', 'democrats', 'department', 'deputy', 'despite', 'details', 'development', 'different', 'director', 'district', 'do', 'documents', 'don', 'donald', 'done', 'down', 'drug', 'due', 'earlier', 'early', 'east', 'economic', 'economy', 'education', 'eight', 'either', 'elect', 'elected', 'election', 'elections', 'else', 'email', 'emails', 'end', 'energy', 'enforcement', 'enough', 'entire', 'eric', 'especially', 'establishment', 'estate', 'eu', 'european', 'even', 'event', 'ever', 'every', 'everyone', 'evidence', 'example', 'executive', 'experts', 'expressed', 'face', 'facebook', 'fact', 'fake', 'false', 'familiar', 'family', 'far', 'fbi', 'featured', 'federal', 'finally', 'finance', 'financial', 'fire', 'fired', 'firm', 'first', 'five', 'flag', 'florida', 'flynn', 'following', 'food', 'for', 'force', 'forces', 'foreign', 'forfirst', 'former', 'forward', 'found', 'foundation', 'four', 'fox', 'fraud', 'free', 'freedom', 'french', 'friday', 'front', 'full', 'fund', 'funding', 'funds', 'future', 'gave', 'gay', 'general', 'george', 'german', 'germany', 'get', 'gets', 'getting', 'getty', 'give', 'given', 'global', 'go', 'goes', 'going', 'good', 'gop', 'got', 'government', 'governor', 'great', 'green', 'group', 'groups', 'gun', 'had', 'hand', 'happened', 'hard', 'has', 'hate', 'have', 'he', 'head', 'health', 'healthcare', 'hearing', 'held', 'help', 'helped', 'her', 'here', 'high', 'hillary', 'him', 'history', 'hit', 'home', 'host', 'hours', 'house', 'houserepresentatives', 'however', 'https', 'human', 'id', 'if', 'illegal', 'image', 'images', 'immediately', 'immigrants', 'immigration', 'important', 'in', 'inc', 'include', 'included', 'including', 'income', 'incountry', 'independence', 'industry', 'infirst', 'information', 'ininterview', 'inmiddle', 'inpast', 'instatement', 'instead', 'insurance', 'intelligence', 'interest', 'interests', 'international', 'interview', 'inu', 'inunited', 'investigation', 'involved', 'inwhite', 'inworld', 'iran', 'iranian', 'iraq', 'iraqi', 'is', 'isis', 'islamic', 'israel', 'issue', 'issues', 'it', 'james', 'jeff', 'jim', 'job', 'jobs', 'joe', 'john', 'johnson', 'jones', 'jr', 'js', 'judge', 'just', 'justice', 'kelly', 'key', 'killed', 'kim', 'king', 'know', 'known', 'korea', 'korean', 'kurdish', 'lady', 'large', 'largest', 'last', 'late', 'later', 'latest', 'law', 'lawmakers', 'laws', 'lawyer', 'lead', 'leader', 'leaders', 'leadership', 'leading', 'least', 'led', 'left', 'legal', 'legislation', 'less', 'let', 'letter', 'level', 'liberal', 'life', 'like', 'likely', 'line', 'little', 'live', 'lives', 'll', 'local', 'london', 'long', 'look', 'low', 'made', 'main', 'mainstream', 'major', 'majority', 'make', 'makes', 'making', 'man', 'manager', 'many', 'mark', 'market', 'mass', 'matter', 'may', 'mayor', 'mccain', 'mcconnell', 'me', 'mean', 'means', 'media', 'medical', 'meeting', 'member', 'members', 'men', 'merkel', 'message', 'met', 'mexico', 'michael', 'middle', 'might', 'mike', 'miles', 'militants', 'military', 'million', 'minister', 'ministry', 'missile', 'monday', 'money', 'month', 'months', 'moore', 'more', 'morning', 'moscow', 'most', 'move', 'movement', 'mr', 'much', 'muslim', 'muslims', 'must', 'name', 'named', 'nation', 'national', 'nations', 'near', 'nearly', 'need', 'needs', 'network', 'never', 'new', 'news', 'newspaper', 'next', 'night', 'no', 'nomination', 'nominee', 'non', 'north', 'not', 'nothing', 'now', 'nuclear', 'obama', 'obamacare', 'of', 'ofcountry', 'off', 'office', 'officer', 'officers', 'official', 'officials', 'ofmost', 'often', 'ofu', 'ofunited', 'oh', 'oil', 'old', 'on', 'one', 'online', 'only', 'open', 'operations', 'opinion', 'opposition', 'order', 'organization', 'other', 'others', 'out', 'outside', 'page', 'paid', 'panel', 'parliament', 'part', 'parties', 'party', 'paul', 'pay', 'peace', 'pence', 'people', 'per', 'percent', 'person', 'personal', 'pic', 'place', 'plan', 'planned', 'plans', 'please', 'pm', 'point', 'points', 'police', 'policies', 'policy', 'political', 'politics', 'poll', 'polls', 'position', 'possible', 'post', 'power', 'powerful', 'president', 'presidential', 'press', 'pretty', 'previously', 'primary', 'prime', 'private', 'pro', 'probably', 'problem', 'process', 'program', 'programs', 'project', 'protection', 'protesters', 'public', 'put', 'putin', 'question', 'questions', 'quickly', 'quot', 'race', 'racist', 'radio', 'raised', 'rally', 'rate', 'rather', 're', 'read', 'real', 'realdonaldtrump', 'reality', 'really', 'reason', 'received', 'recent', 'recently', 'records', 'red', 'reform', 'refugee', 'refugees', 'region', 'regional', 'related', 'relations', 'relationship', 'released', 'religious', 'remarks', 'rep', 'repeatedly', 'report', 'reported', 'reporter', 'reporters', 'reports', 'representative', 'republican', 'republicans', 'research', 'response', 'reuters', 'review', 'richard', 'rico', 'right', 'rights', 'rival', 'robert', 'role', 'room', 'rubio', 'rule', 'rules', 'ruling', 'run', 'running', 'russia', 'russian', 'ryan', 'safe', 'said', 'saidhad', 'saidwas', 'saidwould', 'same', 'san', 'sanctions', 'sanders', 'sarah', 'saturday', 'saudi', 'say', 'saying', 'says', 'scandal', 'school', 'scott', 'screen', 'sean', 'second', 'secret', 'secretary', 'secretarystate', 'security', 'see', 'seems', 'seen', 'self', 'sen', 'senate', 'senator', 'senators', 'senior', 'serious', 'service', 'services', 'sessions', 'set', 'seven', 'several', 'sex', 'sexual', 'shooting', 'short', 'shot', 'should', 'show', 'showed', 'shows', 'side', 'sides', 'similar', 'simply', 'since', 'single', 'six', 'small', 'so', 'social', 'some', 'someone', 'something', 'son', 'soon', 'source', 'sources', 'south', 'speaker', 'speaking', 'special', 'speech', 'spending', 'spicer', 'spokesman', 'spokeswoman', 'staff', 'standing', 'star', 'started', 'state', 'statement', 'states', 'status', 'step', 'steve', 'still', 'stop', 'story', 'street', 'strong', 'student', 'students', 'sunday', 'support', 'supporter', 'supporters', 'supreme', 'sure', 'syria', 'syrian', 'system', 'take', 'taken', 'takes', 'taking', 'talk', 'talking', 'talks', 'tax', 'taxes', 'team', 'ted', 'television', 'tells', 'term', 'terror', 'terrorism', 'terrorist', 'test', 'texas', 'than', 'that', 'thathad', 'thatis', 'thats', 'thatwas', 'thatwould', 'the', 'them', 'then', 'there', 'therea', 'thereno', 'they', 'thing', 'things', 'think', 'this', 'though', 'threat', 'three', 'thursday', 'ties', 'tillerson', 'time', 'times', 'to', 'toa', 'today', 'together', 'told', 'tom', 'too', 'took', 'top', 'tothe', 'tou', 'tounited', 'toward', 'towards', 'trade', 'transition', 'travel', 'true', 'trump', 'tuesday', 'turkey', 'turkish', 'tv', 'tweet', 'tweeted', 'tweets', 'twitter', 'two', 'union', 'united', 'university', 'up', 'us', 'use', 'used', 'using', 've', 'version', 'very', 'via', 'vice', 'victory', 'video', 'violence', 'violent', 'virginia', 'vladimir', 'vote', 'voter', 'voters', 'votes', 'voting', 'wall', 'want', 'war', 'warren', 'was', 'washington', 'watch', 'water', 'way', 'we', 'weapons', 'website', 'wednesday', 'week', 'weeks', 'well', 'went', 'were', 'western', 'what', 'when', 'whenwas', 'whether', 'white', 'whose', 'will', 'win', 'wing', 'wire', 'with', 'within', 'without', 'woman', 'women', 'won', 'words', 'work', 'workers', 'working', 'world', 'worse', 'would', 'wrong', 'wrote', 'xi', 'year', 'years', 'yes', 'yet', 'york', 'you', 'young', 'youtube', 'zone']\n"
     ]
    }
   ],
   "source": [
    "y = np.array(df_text['reality'])  # é um array com os zeros e uns da coluna reality\r\n",
    "X = np.array(df_text['text'])\r\n",
    "\r\n",
    "X_train, X_test, y_train, y_test = train_test_split(X, y, test_size=0.25)  # separando os arrays entre teste e treino\r\n",
    "\r\n",
    "max = 1000\r\n",
    "vectorizer = CountVectorizer(max_features = max)\r\n",
    "X_train = vectorizer.fit_transform(X_train)  # cria matriz que mostra a relação que cada token aparece em cada texto\r\n",
    "X_test = vectorizer.transform(X_test)  # \r\n",
    "print(vectorizer.get_feature_names())\r\n",
    "X_train = preprocessing.normalize(X_train)  # coloca todos os valores da matriz na mesma ordem de grandeza\r\n",
    "X_test = preprocessing.normalize(X_test)"
   ]
  },
  {
   "cell_type": "markdown",
   "metadata": {
    "id": "TbK5HLj__kJf"
   },
   "source": [
    "## Com os dados processados, modelamos a rede neural e a treinamos:"
   ]
  },
  {
   "cell_type": "code",
   "execution_count": null,
   "metadata": {
    "colab": {
     "base_uri": "https://localhost:8080/"
    },
    "executionInfo": {
     "elapsed": 2572,
     "status": "ok",
     "timestamp": 1612127162181,
     "user": {
      "displayName": "Rodrigo Bagdadi Benoliel",
      "photoUrl": "https://lh3.googleusercontent.com/a-/AOh14Gg2NiE86ZUz7S0L8apTP1_VHrue_xVJFtEMkUzf=s64",
      "userId": "13184916410344570315"
     },
     "user_tz": 180
    },
    "id": "OSeoKOTgE4aS",
    "outputId": "89e495c7-822b-42a5-d9f4-31411dee888f"
   },
   "outputs": [
    {
     "name": "stdout",
     "output_type": "stream",
     "text": [
      "705/705 [==============================] - 2s 2ms/step - loss: 0.3125 - accuracy: 0.8784 - val_loss: 0.0260 - val_accuracy: 0.9935\n"
     ]
    }
   ],
   "source": [
    "model = keras.Sequential()\r\n",
    "model.add(keras.layers.Dense(30,activation='relu'))\r\n",
    "model.add(keras.layers.Dense(20,activation='relu'))\r\n",
    "model.add(keras.layers.Dense(1,activation='sigmoid'))\r\n",
    "model.compile(optimizer='adam',loss='binary_crossentropy',metrics=['accuracy'])\r\n",
    "fitModel = model.fit(X_train.toarray(), y_train, validation_split=0.33)"
   ]
  },
  {
   "cell_type": "markdown",
   "metadata": {
    "id": "nWdP1Vsy_xA5"
   },
   "source": [
    "## Em seguida, verificamos que a performance do modelo é satisfatório:"
   ]
  },
  {
   "cell_type": "code",
   "execution_count": null,
   "metadata": {
    "colab": {
     "base_uri": "https://localhost:8080/"
    },
    "executionInfo": {
     "elapsed": 2845,
     "status": "ok",
     "timestamp": 1612127163158,
     "user": {
      "displayName": "Rodrigo Bagdadi Benoliel",
      "photoUrl": "https://lh3.googleusercontent.com/a-/AOh14Gg2NiE86ZUz7S0L8apTP1_VHrue_xVJFtEMkUzf=s64",
      "userId": "13184916410344570315"
     },
     "user_tz": 180
    },
    "id": "fXg7h_I2-x14",
    "outputId": "eb984e38-3c5a-45d5-8442-896d683f7e40"
   },
   "outputs": [
    {
     "name": "stdout",
     "output_type": "stream",
     "text": [
      "351/351 [==============================] - 1s 2ms/step - loss: 0.0271 - accuracy: 0.9923\n",
      "[0.027062900364398956, 0.9923385381698608]\n"
     ]
    }
   ],
   "source": [
    "prediction = model.evaluate(X_test,y_test)\r\n",
    "print(prediction)"
   ]
  },
  {
   "cell_type": "code",
   "execution_count": null,
   "metadata": {
    "id": "DpnxUPtD89g3"
   },
   "outputs": [],
   "source": []
  },
  {
   "cell_type": "markdown",
   "metadata": {
    "id": "ioCJpe3Ye2J3"
   },
   "source": [
    "# Tratamento dos dados brasileiros tokenizados"
   ]
  },
  {
   "cell_type": "markdown",
   "metadata": {
    "id": "ZH7L0fHumgWo"
   },
   "source": [
    "Lendo o csv da base"
   ]
  },
  {
   "cell_type": "code",
   "execution_count": null,
   "metadata": {},
   "outputs": [],
   "source": []
  }
 ],
 "metadata": {
  "colab": {
   "collapsed_sections": [],
   "name": "Modelo.ipynb",
   "provenance": [],
   "toc_visible": true
  },
  "kernelspec": {
   "display_name": "Python 3",
   "language": "python",
   "name": "python3"
  },
  "language_info": {
   "codemirror_mode": {
    "name": "ipython",
    "version": 3
   },
   "file_extension": ".py",
   "mimetype": "text/x-python",
   "name": "python",
   "nbconvert_exporter": "python",
   "pygments_lexer": "ipython3",
   "version": "3.7.3"
  }
 },
 "nbformat": 4,
 "nbformat_minor": 4
}
